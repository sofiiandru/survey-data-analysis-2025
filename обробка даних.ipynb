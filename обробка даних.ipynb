{
 "cells": [
  {
   "cell_type": "code",
   "execution_count": null,
   "id": "0ac0a5bf",
   "metadata": {},
   "outputs": [],
   "source": [
    "import pandas as pd\n",
    "df_survey = pd.read_csv(\"df_surwey.csv\", sep=';', encoding='utf-8')\n",
    "df_impact_detailed = pd.read_csv(\"df_impact_detailed.csv\", sep=';', encoding='utf-8')"
   ]
  },
  {
   "cell_type": "markdown",
   "id": "37b7dee3",
   "metadata": {},
   "source": [
    "***DF_SURVEY***"
   ]
  },
  {
   "cell_type": "code",
   "execution_count": 5,
   "id": "fa61339e",
   "metadata": {},
   "outputs": [
    {
     "name": "stdout",
     "output_type": "stream",
     "text": [
      "0      Так\n",
      "1      Так\n",
      "2       Ні\n",
      "3       Ні\n",
      "4       Ні\n",
      "      ... \n",
      "168     Ні\n",
      "169     Ні\n",
      "170     Ні\n",
      "171     Ні\n",
      "172    Так\n",
      "Name: Зазначений позитивний вплив, Length: 173, dtype: object\n"
     ]
    }
   ],
   "source": [
    "positive_keywords = [\n",
    "    'покращує', 'розвиває', 'допомагає', 'користь', 'збільшує', 'навчає',\n",
    "    'логіка', 'мислення', 'креативність', 'увага', 'моторика', 'спілкування',\n",
    "    'координація', 'навички', 'освіта', 'позитивний', 'добре', 'інтелект', 'так',\n",
    "    'покращення', 'розвиток', 'корисно','покращили','вплинула', 'навчилась', 'навчився', 'навчила'\n",
    "]\n",
    "\n",
    "df_survey['Відповідь респондента про позитивний вплив '] = df_survey['Відповідь респондента про позитивний вплив '].fillna('')\n",
    "\n",
    "df_survey['Зазначений позитивний вплив'] = 'Ні'\n",
    "\n",
    "for index, row in df_survey.iterrows():\n",
    "    response = str(row['Відповідь респондента про позитивний вплив ']).lower()\n",
    "    for keyword in positive_keywords:\n",
    "        if keyword in response:\n",
    "            df_survey.loc[index, 'Зазначений позитивний вплив'] = 'Так'\n",
    "            break\n",
    "\n",
    "print(df_survey['Зазначений позитивний вплив'])"
   ]
  },
  {
   "cell_type": "code",
   "execution_count": 6,
   "id": "6e1bdc5d",
   "metadata": {},
   "outputs": [
    {
     "name": "stdout",
     "output_type": "stream",
     "text": [
      "0      Так\n",
      "1       Ні\n",
      "2       Ні\n",
      "3       Ні\n",
      "4       Ні\n",
      "      ... \n",
      "168     Ні\n",
      "169     Ні\n",
      "170    Так\n",
      "171    Так\n",
      "172    Так\n",
      "Name: Зазначений негативний вплив, Length: 173, dtype: object\n"
     ]
    }
   ],
   "source": [
    "negative_keywords = [\n",
    "    'зниження уваги', \n",
    "    'гіперактивність', 'агресія', 'насильство', 'погіршує', 'порушення сну', \n",
    "    'залежність', 'проблеми', 'негативний', 'погано', 'шкідливо',\n",
    "    'втрата інтересу', 'ізоляція', 'депресія', 'роздратованість',\n",
    "    'втрата', 'зменшення', 'поганий', 'негативно', 'погіршився',\n",
    "    'не сплю', 'безсоння','так','багато', 'лінь', 'час', 'часу','дуже', 'злить', 'якщо','коли', 'роздратованість'\n",
    "]\n",
    "df_survey['Відповідь респондента про негативний вплив '] = df_survey['Відповідь респондента про негативний вплив '].fillna('')\n",
    "\n",
    "df_survey['Зазначений негативний вплив'] = 'Ні'\n",
    "\n",
    "for index, row in df_survey.iterrows():\n",
    "    response = str(row['Відповідь респондента про негативний вплив ']).lower()\n",
    "    for keyword in negative_keywords:\n",
    "        if keyword in response:\n",
    "            df_survey.loc[index, 'Зазначений негативний вплив'] = 'Так'\n",
    "            break\n",
    "\n",
    "print(df_survey['Зазначений негативний вплив'])"
   ]
  },
  {
   "cell_type": "markdown",
   "id": "80a10b34",
   "metadata": {},
   "source": [
    "Перевірка стовбчика \"Респондент\""
   ]
  },
  {
   "cell_type": "code",
   "execution_count": null,
   "id": "41584916",
   "metadata": {},
   "outputs": [
    {
     "name": "stdout",
     "output_type": "stream",
     "text": [
      "Унікальні значення у стовпчику 'Респондент':\n",
      "['Дитина' 'Батьки']\n"
     ]
    }
   ],
   "source": [
    "\n",
    "unique_respondents = df_survey['Респондент'].unique()\n",
    "\n",
    "print(\"Унікальні значення у стовпчику 'Респондент':\")\n",
    "print(unique_respondents)"
   ]
  },
  {
   "cell_type": "code",
   "execution_count": null,
   "id": "8cc0ed8c",
   "metadata": {},
   "outputs": [
    {
     "name": "stdout",
     "output_type": "stream",
     "text": [
      "Унікальні значення у стовпчику 'Респондент':\n",
      "[13 14 11 10 12  8  9]\n"
     ]
    }
   ],
   "source": [
    "unique_age = df_survey['Вік'].unique()\n",
    "\n",
    "print(\"Унікальні значення у стовпчику 'Респондент':\")\n",
    "print(unique_age)"
   ]
  },
  {
   "cell_type": "markdown",
   "id": "9462f5ba",
   "metadata": {},
   "source": [
    "Перевірка стовбчика \"Стать\""
   ]
  },
  {
   "cell_type": "code",
   "execution_count": null,
   "id": "af1b80ba",
   "metadata": {},
   "outputs": [
    {
     "name": "stdout",
     "output_type": "stream",
     "text": [
      "Унікальні значення у стовпчику 'Стать':\n",
      "['Чоловіча' 'Жіноча']\n"
     ]
    }
   ],
   "source": [
    "unique_genders = df_survey['Стать'].unique()\n",
    "\n",
    "print(\"Унікальні значення у стовпчику 'Стать':\")\n",
    "print(unique_genders)"
   ]
  },
  {
   "cell_type": "markdown",
   "id": "b790e40f",
   "metadata": {},
   "source": [
    "Перевірка стовбчика \"Улюблена гра\""
   ]
  },
  {
   "cell_type": "code",
   "execution_count": null,
   "id": "4a34c96e",
   "metadata": {},
   "outputs": [
    {
     "name": "stdout",
     "output_type": "stream",
     "text": [
      "Усі унікальні згадані ігри:\n",
      "\"-\", \"Block Blast\", \"Block Blast \", \"Blok Bast\", \"Blok Blast\", \"Brawl Stars\", \"Brawl Stars \", \"Brawl stars\", \"Brawl stars \", \"CS:GO\", \"Call of war\", \"Canva\", \"Cars\", \"CookieRun\", \"Counter-Strike\", \"Counter-Strike \", \"Counter-Strike 2\", \"Dead by daylight\", \"Dota 2\", \"EA Sports FC Mobile\", \"FIFA Mobile\", \"Fallout: New Vegas\", \"Farming simulator\", \"Fifa\", \"Flight Simulator\", \"Fortnight \", \"Fortnite\", \"GTA V\", \"Genshin Impact\", \"Genshin Impact \", \"Geometry Dash\", \"Grand theft auto\", \"Half Life 2\", \"Horizon\", \"MSC\", \"Maincraft\", \"Minecraft\", \"Minecraft \", \"Portal\", \"Pubg Mobile\", \"Roblox\", \"Rust\", \"Rust \", \"SCHOOLBOY\", \"SimCity \", \"Stand Off\", \"Stand Off \", \"Stand off\", \"Standoff 2\", \"Standoff2\", \"Standoff2 \", \"Standoof 2\", \"Stend Off\", \"Stendoff 2\", \"Stumble Guys\", \"Super Mechs\", \"Team Fortress 2\", \"The Sims\", \"Undertale\", \"World of Tanks\", \"good pizza greate pizza\", \"Дурак онлайн \", \"Тетріс\", \"Три в ряд\", \"Шахи\"\n"
     ]
    }
   ],
   "source": [
    "#Обробка рядків де зазначено більше однієї гри\n",
    "favorite_games_exploded = df_survey['Улюблена гра'].str.split(', ', expand=False).explode()\n",
    "unique_favorite_games_exploded = favorite_games_exploded.unique()\n",
    "sorted_unique_games = sorted(unique_favorite_games_exploded)\n",
    "quoted_unique_games_string = ', '.join([f'\"{game}\"' for game in sorted_unique_games])\n",
    "print(\"Усі унікальні згадані ігри:\")\n",
    "print(quoted_unique_games_string)"
   ]
  },
  {
   "cell_type": "code",
   "execution_count": null,
   "id": "83980f24",
   "metadata": {},
   "outputs": [
    {
     "name": "stdout",
     "output_type": "stream",
     "text": [
      "Усі унікальні згадані ігри:\n",
      "\"-\", \"Block Blast\", \"Brawl Stars\", \"Brawl Stars \", \"CS:GO\", \"Call of war\", \"Canva\", \"Cars\", \"CookieRun\", \"Counter-Strike\", \"Counter-Strike2\", \"Dead by daylight\", \"Dota 2\", \"EA Sports FC Mobile\", \"FIFA Mobile\", \"Fallout: New Vegas\", \"Farming simulator\", \"Fifa\", \"Flight Simulator\", \"Fortnite\", \"GTA V\", \"Genshin Impact\", \"Geometry Dash\", \"Grand theft auto\", \"Half Life 2\", \"Horizon\", \"MSC\", \"Minecraft\", \"Portal\", \"Pubg Mobile\", \"Roblox\", \"Rust\", \"SCHOOLBOY\", \"SimCity \", \"Standoff\", \"Standoff 2\", \"Stumble Guys\", \"Super Mechs\", \"Team Fortress 2\", \"The Sims\", \"Undertale\", \"World of Tanks\", \"good pizza greate pizza\", \"Дурак онлайн \", \"Тетріс\", \"Три в ряд\", \"Шахи\"\n"
     ]
    }
   ],
   "source": [
    "#Виправленя помилок або випадкових символів \n",
    "df_survey['Улюблена гра'] = df_survey['Улюблена гра'].str.replace('Block Blast ', 'Block Blast', regex=False)\n",
    "df_survey['Улюблена гра'] = df_survey['Улюблена гра'].str.replace('Blok Bast', 'Block Blast', regex=False)\n",
    "df_survey['Улюблена гра'] = df_survey['Улюблена гра'].str.replace('Blok Blast', 'Block Blast', regex=False)\n",
    "df_survey['Улюблена гра'] = df_survey['Улюблена гра'].str.replace('Brawl Stars ', 'Brawl Stars', regex=False)\n",
    "df_survey['Улюблена гра'] = df_survey['Улюблена гра'].str.replace('Brawl stars', 'Brawl Stars', regex=False)\n",
    "df_survey['Улюблена гра'] = df_survey['Улюблена гра'].str.replace('Brawl stars ', 'Brawl Stars', regex=False)\n",
    "df_survey['Улюблена гра'] = df_survey['Улюблена гра'].str.replace('Counter-Strike ', 'Counter-Strike', regex=False)\n",
    "df_survey['Улюблена гра'] = df_survey['Улюблена гра'].str.replace('Fortnight ', 'Fortnite', regex=False)\n",
    "df_survey['Улюблена гра'] = df_survey['Улюблена гра'].str.replace('Genshin Impact ', 'Genshin Impact', regex=False)\n",
    "df_survey['Улюблена гра'] = df_survey['Улюблена гра'].str.replace('Maincraft', 'Minecraft', regex=False)\n",
    "df_survey['Улюблена гра'] = df_survey['Улюблена гра'].str.replace('Minecraft ', 'Minecraft', regex=False)\n",
    "df_survey['Улюблена гра'] = df_survey['Улюблена гра'].str.replace('Rust ', 'Rust', regex=False)\n",
    "df_survey['Улюблена гра'] = df_survey['Улюблена гра'].str.replace('Stand Off ', 'Standoff', regex=False)\n",
    "df_survey['Улюблена гра'] = df_survey['Улюблена гра'].str.replace('Stand off', 'Standoff', regex=False)\n",
    "df_survey['Улюблена гра'] = df_survey['Улюблена гра'].str.replace('Stend Off', 'Standoff', regex=False)\n",
    "df_survey['Улюблена гра'] = df_survey['Улюблена гра'].str.replace('Stand Off', 'Standoff', regex=False)\n",
    "df_survey['Улюблена гра'] = df_survey['Улюблена гра'].str.replace('Standoff2 ', 'Standoff 2', regex=False)\n",
    "df_survey['Улюблена гра'] = df_survey['Улюблена гра'].str.replace('Standoof 2', 'Standoff 2', regex=False)\n",
    "df_survey['Улюблена гра'] = df_survey['Улюблена гра'].str.replace('Stendoff 2', 'Standoff 2', regex=False)\n",
    "df_survey['Улюблена гра'] = df_survey['Улюблена гра'].str.replace('Standoff2', 'Standoff 2', regex=False)\n",
    "\n",
    "favorite_games_exploded = df_survey['Улюблена гра'].str.split(', ', expand=False).explode()\n",
    "unique_favorite_games_exploded = favorite_games_exploded.unique()\n",
    "sorted_unique_games = sorted(unique_favorite_games_exploded)\n",
    "quoted_unique_games_string = ', '.join([f'\"{game}\"' for game in sorted_unique_games])\n",
    "print(\"Усі унікальні згадані ігри:\")\n",
    "print(quoted_unique_games_string)"
   ]
  },
  {
   "cell_type": "markdown",
   "id": "3a8cd249",
   "metadata": {},
   "source": [
    "Перевірка стовбчика \"Жанр\""
   ]
  },
  {
   "cell_type": "code",
   "execution_count": null,
   "id": "9b70d061",
   "metadata": {},
   "outputs": [
    {
     "name": "stdout",
     "output_type": "stream",
     "text": [
      "Усі унікальні жанри:\n",
      "-\n",
      "MMOG\n",
      "Головоломки\n",
      "Гонки\n",
      "Жахи\n",
      "Пригоди\n",
      "Пісочниці\n",
      "Рольові\n",
      "Симулятори\n",
      "Спорт\n",
      "Стратегії\n",
      "Шутери та бойовики\n"
     ]
    }
   ],
   "source": [
    "genre_exploded = df_survey['Жанр'].str.split(', ', expand=False).explode()\n",
    "unique_genres = genre_exploded.unique()\n",
    "sorted_unique_genres = sorted(unique_genres)\n",
    "print(\"Усі унікальні жанри:\")\n",
    "for genre in sorted_unique_genres:\n",
    "    print(genre)"
   ]
  },
  {
   "cell_type": "markdown",
   "id": "8f53a05a",
   "metadata": {},
   "source": [
    "Перевірка стовбчика \"Час\""
   ]
  },
  {
   "cell_type": "code",
   "execution_count": null,
   "id": "dd1eb4b2",
   "metadata": {},
   "outputs": [
    {
     "name": "stdout",
     "output_type": "stream",
     "text": [
      "Усі унікальні значення у стовпчику 'Час':\n",
      "-\n",
      "4 години і більше\n",
      "близько 1 години\n",
      "близько 2 годин\n",
      "близько 3 годин\n",
      "близько 3 годин \n",
      "блилько 4 годин\n",
      "менше 1 години\n"
     ]
    }
   ],
   "source": [
    "unique_time = df_survey['Час'].unique()\n",
    "sorted_unique_time = sorted(unique_time)\n",
    "print(\"Усі унікальні значення у стовпчику 'Час':\")\n",
    "for time_value in sorted_unique_time:\n",
    "    print(time_value)"
   ]
  },
  {
   "cell_type": "code",
   "execution_count": 5,
   "id": "5532a571",
   "metadata": {},
   "outputs": [
    {
     "name": "stdout",
     "output_type": "stream",
     "text": [
      "Унікальні значення у стовпчику 'Час':\n",
      "['близько 3 годин' '4 години і більше' '-' 'близько 1 години'\n",
      " 'близько 2 годин' 'менше 1 години' 'блилько 4 годин']\n"
     ]
    }
   ],
   "source": [
    "df_survey['Час'] = df_survey['Час'].str.replace('близько 3 годин ', 'близько 3 годин', regex=False)\n",
    "unique_time_after_replace = df_survey['Час'].unique()\n",
    "print(\"Унікальні значення у стовпчику 'Час':\")\n",
    "print(unique_time_after_replace)"
   ]
  },
  {
   "cell_type": "markdown",
   "id": "c2097f60",
   "metadata": {},
   "source": [
    "Перевірка стовбчика \"Витрата грошей\""
   ]
  },
  {
   "cell_type": "code",
   "execution_count": 7,
   "id": "3944c4b6",
   "metadata": {},
   "outputs": [
    {
     "name": "stdout",
     "output_type": "stream",
     "text": [
      "Усі унікальні значення у стовпчику 'Витрата грошей':\n",
      "Ні\n",
      "Так\n"
     ]
    }
   ],
   "source": [
    "unique_spending = df_survey['Витрата грошей'].unique()\n",
    "sorted_unique_spending = sorted(unique_spending)\n",
    "print(\"Усі унікальні значення у стовпчику 'Витрата грошей':\")\n",
    "for spending_value in sorted_unique_spending:\n",
    "    print(spending_value)"
   ]
  },
  {
   "cell_type": "markdown",
   "id": "e9026e9b",
   "metadata": {},
   "source": [
    "Перевірка стовбчика \"Позитивний вплив\""
   ]
  },
  {
   "cell_type": "code",
   "execution_count": null,
   "id": "5ec85c17",
   "metadata": {},
   "outputs": [
    {
     "name": "stdout",
     "output_type": "stream",
     "text": [
      "Кількість згадувань кожного унікального значення у стовпчику 'Позитивний вплив':\n",
      "\"Ні\": 89\n",
      "\"Так\": 83\n",
      "\"Нi\": 1\n"
     ]
    }
   ],
   "source": [
    "import pandas as pd\n",
    "df_survey['Позитивний вплив'] = df_survey['Позитивний вплив'].str.strip()\n",
    "df_survey['Позитивний вплив'] = df_survey['Позитивний вплив'].str.replace(r'\\s+', '', regex=True)\n",
    "positive_impact_counts = df_survey['Позитивний вплив'].value_counts().sort_values(ascending=False)\n",
    "\n",
    "print(\"Кількість згадувань кожного унікального значення у стовпчику 'Позитивний вплив':\")\n",
    "for impact_value, count in positive_impact_counts.items():\n",
    "    print(f'\"{impact_value}\": {count}')"
   ]
  },
  {
   "cell_type": "code",
   "execution_count": null,
   "id": "8b220951",
   "metadata": {},
   "outputs": [
    {
     "name": "stdout",
     "output_type": "stream",
     "text": [
      "Кількість згадувань кожного унікального значення у стовпчику 'Позитивний вплив':\n",
      "\"Ні\": 90\n",
      "\"Так\": 83\n"
     ]
    }
   ],
   "source": [
    "df_survey['Позитивний вплив'] = df_survey['Позитивний вплив'].str.replace('Нi', 'Ні', regex=False)\n",
    "positive_impact_counts = df_survey['Позитивний вплив'].value_counts().sort_values(ascending=False)\n",
    "\n",
    "print(\"Кількість згадувань кожного унікального значення у стовпчику 'Позитивний вплив':\")\n",
    "for impact_value, count in positive_impact_counts.items():\n",
    "    print(f'\"{impact_value}\": {count}')"
   ]
  },
  {
   "cell_type": "markdown",
   "id": "c3aaa496",
   "metadata": {},
   "source": [
    "Перевірка стовбчика \"Негативний вплив\""
   ]
  },
  {
   "cell_type": "code",
   "execution_count": null,
   "id": "ff077346",
   "metadata": {},
   "outputs": [
    {
     "name": "stdout",
     "output_type": "stream",
     "text": [
      "Кількість згадувань кожного унікального значення у стовпчику 'Негативний вплив':\n",
      "\"Ні\": 111\n",
      "\"Так\": 62\n"
     ]
    }
   ],
   "source": [
    "df_survey['Негативний вплив'] = df_survey['Негативний вплив'].str.strip()\n",
    "df_survey['Негативний вплив'] = df_survey['Негативний вплив'].str.replace(r'\\s+', '', regex=True)\n",
    "positive_impact_counts = df_survey['Негативний вплив'].value_counts().sort_values(ascending=False)\n",
    "\n",
    "print(\"Кількість згадувань кожного унікального значення у стовпчику 'Негативний вплив':\")\n",
    "for impact_value, count in positive_impact_counts.items():\n",
    "    print(f'\"{impact_value}\": {count}')"
   ]
  },
  {
   "cell_type": "markdown",
   "id": "da61e050",
   "metadata": {},
   "source": [
    "***DF_IMPACT_DETAILED***"
   ]
  },
  {
   "cell_type": "markdown",
   "id": "0cb72bd6",
   "metadata": {},
   "source": [
    "Перевірка стовбчика \"Жанр позитивного впливу\""
   ]
  },
  {
   "cell_type": "code",
   "execution_count": null,
   "id": "9434104c",
   "metadata": {},
   "outputs": [
    {
     "name": "stdout",
     "output_type": "stream",
     "text": [
      "Унікальні значення у стовпчику 'Жанр позитивного впливу':\n",
      "['Головоломки' 'MMOG' 'Пісочниці' nan 'Спортивні' 'Всі' 'Навчальні'\n",
      " 'Симулятори' 'Шутери та бойовики' 'Гонки' 'Рольові' 'СтратегіЇ' 'Жахи']\n"
     ]
    }
   ],
   "source": [
    "genre_positive_exploded = df_impact_detailed['Жанр позитивного впливу'].str.split(', ', expand=False).explode().str.strip()\n",
    "unique_genre_positive = genre_positive_exploded.unique()\n",
    "\n",
    "print(\"Унікальні значення у стовпчику 'Жанр позитивного впливу':\")\n",
    "print(unique_genre_positive)"
   ]
  },
  {
   "cell_type": "markdown",
   "id": "b06b75de",
   "metadata": {},
   "source": [
    "Перевірка стовбчика \"Категорія позитивного впливу\""
   ]
  },
  {
   "cell_type": "code",
   "execution_count": null,
   "id": "3313d0b0",
   "metadata": {},
   "outputs": [
    {
     "name": "stdout",
     "output_type": "stream",
     "text": [
      "Унікальні значення у стовпчику Категорія позитивного впливу:\n",
      "Відсутньо\n",
      "Емоційно-психологічний стан та здоров'я\n",
      "Когнітивні функції здібності\n",
      "Моторика та координація\n",
      "Навчання і розвиток\n",
      "Практичні життєві навички\n",
      "Соціальні навички навички\n"
     ]
    }
   ],
   "source": [
    "category_positive_exploded = df_impact_detailed['Категорія позитивного впливу'].str.split(', ', expand=False).explode().str.strip()\n",
    "category_positive_exploded = category_positive_exploded.fillna('Відсутньо')\n",
    "unique_category_positive = category_positive_exploded.unique()\n",
    "sorted_unique_category_positive = sorted(unique_category_positive)\n",
    "\n",
    "print(\"Унікальні значення у стовпчику Категорія позитивного впливу:\")\n",
    "for category in sorted_unique_category_positive:\n",
    "    print(category)"
   ]
  },
  {
   "cell_type": "markdown",
   "id": "f7b51bf4",
   "metadata": {},
   "source": [
    "Перевірка стовбчика \"Тип позитивного впливу\""
   ]
  },
  {
   "cell_type": "code",
   "execution_count": null,
   "id": "d41826a1",
   "metadata": {},
   "outputs": [
    {
     "name": "stdout",
     "output_type": "stream",
     "text": [
      "Унікальні значення у стовпчику Тип позитивного впливу:\n",
      "Вивчення мов\n",
      "Витривалість\n",
      "Відсутньо\n",
      "Дизайн\n",
      "Критичне мислення\n",
      "Логічне мислення\n",
      "Нові друзі\n",
      "Орієнтація в просторі\n",
      "Покращення дрібної моторики\n",
      "Покращення настрою\n",
      "Покращення реакції\n",
      "Покращення розуміння математики\n",
      "Підвищення самооцінки\n",
      "Розвиток навичок спілкування\n",
      "Розвиток пам'яті\n",
      "Розвиток точності\n",
      "Самостійне навчання\n",
      "Самостійність\n",
      "Стратегічне мислення\n",
      "Уважність\n",
      "Фінансова грамотність\n"
     ]
    }
   ],
   "source": [
    "type_positive_exploded = df_impact_detailed['Тип позитивного впливу'].str.split(', ', expand=False).explode().str.strip()\n",
    "type_positive_exploded = type_positive_exploded.fillna('Відсутньо')\n",
    "unique_type_positive = type_positive_exploded.unique()\n",
    "sorted_unique_type_positive = sorted(unique_type_positive)\n",
    "\n",
    "print(\"Унікальні значення у стовпчику Тип позитивного впливу:\")\n",
    "for type_value in sorted_unique_type_positive:\n",
    "    print(type_value)"
   ]
  },
  {
   "cell_type": "markdown",
   "id": "74c51bd2",
   "metadata": {},
   "source": [
    "Перевірка стовбчика \"Жанр негативного впливу\""
   ]
  },
  {
   "cell_type": "code",
   "execution_count": null,
   "id": "fa5e6a46",
   "metadata": {},
   "outputs": [
    {
     "name": "stdout",
     "output_type": "stream",
     "text": [
      "Унікальні значення у стовпчику Жанр негативного впливу:\n",
      "MMOG\n",
      "Всі\n",
      "Відсутньо\n",
      "Пісочниці\n",
      "Рольові\n",
      "Симулятори\n",
      "Шутери та бойовики\n"
     ]
    }
   ],
   "source": [
    "genre_negative_exploded = df_impact_detailed['Жанр негативного впливу'].str.split(', ', expand=False).explode().str.strip()\n",
    "genre_negative_exploded = genre_negative_exploded.fillna('Відсутньо')\n",
    "unique_genre_negative = genre_negative_exploded.unique()\n",
    "sorted_unique_genre_negative = sorted(unique_genre_negative)\n",
    "\n",
    "print(\"Унікальні значення у стовпчику Жанр негативного впливу:\")\n",
    "for genre_value in sorted_unique_genre_negative:\n",
    "    print(genre_value)"
   ]
  },
  {
   "cell_type": "markdown",
   "id": "a2aae4bf",
   "metadata": {},
   "source": [
    "Перевірка стовбчика \"Категорія негативного впливу\""
   ]
  },
  {
   "cell_type": "code",
   "execution_count": null,
   "id": "f5056ad0",
   "metadata": {},
   "outputs": [
    {
     "name": "stdout",
     "output_type": "stream",
     "text": [
      "Унікальні значення у стовпчику Категорія негативного впливу:\n",
      "Відсутньо\n",
      "Емоційно-психологічний стан та здоров'я\n",
      "Когнітивні функції здібності\n",
      "Моторика та координація\n",
      "Навчання і розвиток\n",
      "Практичні життєві навички\n",
      "Соціальні навички навички\n"
     ]
    }
   ],
   "source": [
    "category_negative_exploded = df_impact_detailed['Категорія негативного впливу'].str.split(', ', expand=False).explode().str.strip()\n",
    "category_negative_exploded = category_negative_exploded.fillna('Відсутньо')\n",
    "unique_category_negative = category_negative_exploded.unique()\n",
    "sorted_unique_category_negative = sorted(unique_category_negative)\n",
    "\n",
    "print(\"Унікальні значення у стовпчику Категорія негативного впливу:\")\n",
    "for category_value in sorted_unique_category_negative:\n",
    "    print(category_value)"
   ]
  },
  {
   "cell_type": "markdown",
   "id": "48a1c99b",
   "metadata": {},
   "source": [
    "Перевірка стовбчика \"Тип негативного впливу\""
   ]
  },
  {
   "cell_type": "code",
   "execution_count": null,
   "id": "47fa9d4d",
   "metadata": {},
   "outputs": [
    {
     "name": "stdout",
     "output_type": "stream",
     "text": [
      "Унікальні значення у стовпчику Тип негативного впливу:\n",
      "Агресія\n",
      "Біль в очах\n",
      "Біль у голові\n",
      "Втеча від реальності\n",
      "Втома\n",
      "Втрата офлайн комунікації\n",
      "Втрата інтересу до навчання\n",
      "Відсутньо\n",
      "Емоційна нестабільність\n",
      "Залежність\n",
      "Зменшення розумової активності\n",
      "Зниження концентрації уваги\n",
      "Зниження фізичної активності\n",
      "Конфлікти\n",
      "Недостатній тайм-менеджмент\n",
      "Погіршення настрою\n",
      "Підвищена дратівливість\n",
      "Фінансова неграмотність\n"
     ]
    }
   ],
   "source": [
    "type_negative_exploded = df_impact_detailed['Тип негативного впливу'].str.split(', ', expand=False).explode().str.strip()\n",
    "type_negative_exploded = type_negative_exploded.fillna('Відсутньо')\n",
    "unique_type_negative = type_negative_exploded.unique()\n",
    "sorted_unique_type_negative = sorted(unique_type_negative)\n",
    "\n",
    "print(\"Унікальні значення у стовпчику Тип негативного впливу:\")\n",
    "for type_value in sorted_unique_type_negative:\n",
    "    print(type_value)"
   ]
  },
  {
   "cell_type": "code",
   "execution_count": null,
   "id": "af71ed83",
   "metadata": {},
   "outputs": [
    {
     "name": "stdout",
     "output_type": "stream",
     "text": [
      "Оновлений DataFrame збережено у файл 'survey_data_updated2.csv'\n"
     ]
    }
   ],
   "source": [
    "\n",
    "import csv\n",
    "\n",
    "df_survey.to_csv('survey_data_updated.csv', index=False, encoding='utf-8', quoting=csv.QUOTE_ALL)\n",
    "\n",
    "print(\"Оновлений DataFrame збережено у файл 'survey_data_updated.csv'\")"
   ]
  },
  {
   "cell_type": "code",
   "execution_count": null,
   "id": "c38a7703",
   "metadata": {},
   "outputs": [],
   "source": []
  },
  {
   "cell_type": "code",
   "execution_count": null,
   "id": "0be5de6d",
   "metadata": {},
   "outputs": [
    {
     "data": {
      "text/html": [
       "<div>\n",
       "<style scoped>\n",
       "    .dataframe tbody tr th:only-of-type {\n",
       "        vertical-align: middle;\n",
       "    }\n",
       "\n",
       "    .dataframe tbody tr th {\n",
       "        vertical-align: top;\n",
       "    }\n",
       "\n",
       "    .dataframe thead th {\n",
       "        text-align: right;\n",
       "    }\n",
       "</style>\n",
       "<table border=\"1\" class=\"dataframe\">\n",
       "  <thead>\n",
       "    <tr style=\"text-align: right;\">\n",
       "      <th></th>\n",
       "      <th>ID</th>\n",
       "      <th>Респондент</th>\n",
       "      <th>Вік</th>\n",
       "      <th>Стать</th>\n",
       "      <th>Чи грає у відеоігри</th>\n",
       "      <th>Девайс</th>\n",
       "      <th>Улюблена гра</th>\n",
       "      <th>Час</th>\n",
       "      <th>Жанр</th>\n",
       "      <th>Витрата грошей</th>\n",
       "      <th>Позитивний вплив</th>\n",
       "      <th>Unnamed: 11</th>\n",
       "      <th>Негативний вплив</th>\n",
       "      <th>Відповідь респендента про негативний вплив</th>\n",
       "    </tr>\n",
       "  </thead>\n",
       "  <tbody>\n",
       "    <tr>\n",
       "      <th>0</th>\n",
       "      <td>1</td>\n",
       "      <td>Дитина</td>\n",
       "      <td>13</td>\n",
       "      <td>Чоловіча</td>\n",
       "      <td>Так</td>\n",
       "      <td>телефон</td>\n",
       "      <td>Шахи, Call of war</td>\n",
       "      <td>близько 3 годин</td>\n",
       "      <td>Шутери та бойовики</td>\n",
       "      <td>Ні</td>\n",
       "      <td>Так</td>\n",
       "      <td>Так, стратегічне мислення</td>\n",
       "      <td>Так</td>\n",
       "      <td>Забирає багато часу</td>\n",
       "    </tr>\n",
       "    <tr>\n",
       "      <th>1</th>\n",
       "      <td>2</td>\n",
       "      <td>Дитина</td>\n",
       "      <td>13</td>\n",
       "      <td>Чоловіча</td>\n",
       "      <td>Так</td>\n",
       "      <td>комп'ютер/ноутбук</td>\n",
       "      <td>-</td>\n",
       "      <td>4 години і більше</td>\n",
       "      <td>Шутери та бойовики</td>\n",
       "      <td>Так</td>\n",
       "      <td>Так</td>\n",
       "      <td>так</td>\n",
       "      <td>Ні</td>\n",
       "      <td>ні</td>\n",
       "    </tr>\n",
       "    <tr>\n",
       "      <th>2</th>\n",
       "      <td>3</td>\n",
       "      <td>Дитина</td>\n",
       "      <td>14</td>\n",
       "      <td>Жіноча</td>\n",
       "      <td>Ні</td>\n",
       "      <td>-</td>\n",
       "      <td>-</td>\n",
       "      <td>-</td>\n",
       "      <td>-</td>\n",
       "      <td>Ні</td>\n",
       "      <td>Ні</td>\n",
       "      <td>ніяк</td>\n",
       "      <td>Ні</td>\n",
       "      <td>ніяк</td>\n",
       "    </tr>\n",
       "    <tr>\n",
       "      <th>3</th>\n",
       "      <td>4</td>\n",
       "      <td>Дитина</td>\n",
       "      <td>13</td>\n",
       "      <td>Жіноча</td>\n",
       "      <td>Так</td>\n",
       "      <td>телефон</td>\n",
       "      <td>Genshin Impact</td>\n",
       "      <td>близько 1 години</td>\n",
       "      <td>Жахи</td>\n",
       "      <td>Так</td>\n",
       "      <td>Ні</td>\n",
       "      <td>?</td>\n",
       "      <td>Ні</td>\n",
       "      <td>?</td>\n",
       "    </tr>\n",
       "    <tr>\n",
       "      <th>4</th>\n",
       "      <td>5</td>\n",
       "      <td>Дитина</td>\n",
       "      <td>13</td>\n",
       "      <td>Жіноча</td>\n",
       "      <td>Так</td>\n",
       "      <td>телефон</td>\n",
       "      <td>Genshin Impact</td>\n",
       "      <td>близько 3 годин</td>\n",
       "      <td>MMOG</td>\n",
       "      <td>Ні</td>\n",
       "      <td>Ні</td>\n",
       "      <td>ні</td>\n",
       "      <td>Ні</td>\n",
       "      <td>ні</td>\n",
       "    </tr>\n",
       "  </tbody>\n",
       "</table>\n",
       "</div>"
      ],
      "text/plain": [
       "   ID Респондент  Вік     Стать Чи грає у відеоігри             Девайс  \\\n",
       "0   1     Дитина   13  Чоловіча                 Так            телефон   \n",
       "1   2     Дитина   13  Чоловіча                 Так  комп'ютер/ноутбук   \n",
       "2   3     Дитина   14    Жіноча                  Ні                  -   \n",
       "3   4     Дитина   13    Жіноча                 Так            телефон   \n",
       "4   5     Дитина   13    Жіноча                 Так            телефон   \n",
       "\n",
       "        Улюблена гра                Час                Жанр Витрата грошей  \\\n",
       "0  Шахи, Call of war    близько 3 годин  Шутери та бойовики             Ні   \n",
       "1                  -  4 години і більше  Шутери та бойовики            Так   \n",
       "2                  -                  -                   -             Ні   \n",
       "3     Genshin Impact   близько 1 години                Жахи            Так   \n",
       "4     Genshin Impact    близько 3 годин                MMOG             Ні   \n",
       "\n",
       "  Позитивний вплив                 Unnamed: 11 Негативний вплив  \\\n",
       "0              Так  Так, стратегічне мислення               Так   \n",
       "1              Так                         так               Ні   \n",
       "2               Ні                       ніяк                Ні   \n",
       "3               Ні                           ?               Ні   \n",
       "4               Ні                          ні               Ні   \n",
       "\n",
       "  Відповідь респендента про негативний вплив   \n",
       "0                         Забирає багато часу  \n",
       "1                                          ні  \n",
       "2                                        ніяк  \n",
       "3                                           ?  \n",
       "4                                          ні  "
      ]
     },
     "execution_count": 62,
     "metadata": {},
     "output_type": "execute_result"
    }
   ],
   "source": [
    "survey_data_updated= pd.read_csv(\"survey_data_updated.csv\")\n",
    "survey_data_updated.head(5)"
   ]
  },
  {
   "cell_type": "code",
   "execution_count": null,
   "id": "883b445f",
   "metadata": {},
   "outputs": [
    {
     "name": "stdout",
     "output_type": "stream",
     "text": [
      "Оновлений DataFrame збережено у файл 'survey_data_updated2.csv'\n",
      "DataFrame df_impact_detailed збережено у файл 'impact_data_updated.csv' зі заміненими NaN.\n"
     ]
    }
   ],
   "source": [
    "df_impact_detailed.to_csv('impact_data_updated.csv', index=False, encoding='utf-8', quoting=csv.QUOTE_ALL)\n",
    "\n",
    "print(\"Оновлений DataFrame збережено у файл 'survey_data_updated.csv'\")\n",
    "print(\"DataFrame df_impact_detailed збережено у файл 'impact_data_updated.csv' зі заміненими NaN.\")"
   ]
  },
  {
   "cell_type": "code",
   "execution_count": null,
   "id": "d4c2ce08",
   "metadata": {},
   "outputs": [
    {
     "data": {
      "text/html": [
       "<div>\n",
       "<style scoped>\n",
       "    .dataframe tbody tr th:only-of-type {\n",
       "        vertical-align: middle;\n",
       "    }\n",
       "\n",
       "    .dataframe tbody tr th {\n",
       "        vertical-align: top;\n",
       "    }\n",
       "\n",
       "    .dataframe thead th {\n",
       "        text-align: right;\n",
       "    }\n",
       "</style>\n",
       "<table border=\"1\" class=\"dataframe\">\n",
       "  <thead>\n",
       "    <tr style=\"text-align: right;\">\n",
       "      <th></th>\n",
       "      <th>ID</th>\n",
       "      <th>Респондент</th>\n",
       "      <th>Вік</th>\n",
       "      <th>Стать</th>\n",
       "      <th>Чи грає у відеоігри</th>\n",
       "      <th>Девайс</th>\n",
       "      <th>Улюблена гра</th>\n",
       "      <th>Час</th>\n",
       "      <th>Жанр</th>\n",
       "      <th>Витрата грошей</th>\n",
       "      <th>Позитивний вплив</th>\n",
       "      <th>Unnamed: 11</th>\n",
       "      <th>Негативний вплив</th>\n",
       "      <th>Відповідь респендента про негативний вплив</th>\n",
       "    </tr>\n",
       "  </thead>\n",
       "  <tbody>\n",
       "    <tr>\n",
       "      <th>0</th>\n",
       "      <td>1</td>\n",
       "      <td>Дитина</td>\n",
       "      <td>13</td>\n",
       "      <td>Чоловіча</td>\n",
       "      <td>Так</td>\n",
       "      <td>телефон</td>\n",
       "      <td>Шахи, Call of war</td>\n",
       "      <td>близько 3 годин</td>\n",
       "      <td>Шутери та бойовики</td>\n",
       "      <td>Ні</td>\n",
       "      <td>Так</td>\n",
       "      <td>Так, стратегічне мислення</td>\n",
       "      <td>Так</td>\n",
       "      <td>Забирає багато часу</td>\n",
       "    </tr>\n",
       "    <tr>\n",
       "      <th>1</th>\n",
       "      <td>2</td>\n",
       "      <td>Дитина</td>\n",
       "      <td>13</td>\n",
       "      <td>Чоловіча</td>\n",
       "      <td>Так</td>\n",
       "      <td>комп'ютер/ноутбук</td>\n",
       "      <td>-</td>\n",
       "      <td>4 години і більше</td>\n",
       "      <td>Шутери та бойовики</td>\n",
       "      <td>Так</td>\n",
       "      <td>Так</td>\n",
       "      <td>так</td>\n",
       "      <td>Ні</td>\n",
       "      <td>ні</td>\n",
       "    </tr>\n",
       "    <tr>\n",
       "      <th>2</th>\n",
       "      <td>3</td>\n",
       "      <td>Дитина</td>\n",
       "      <td>14</td>\n",
       "      <td>Жіноча</td>\n",
       "      <td>Ні</td>\n",
       "      <td>-</td>\n",
       "      <td>-</td>\n",
       "      <td>-</td>\n",
       "      <td>-</td>\n",
       "      <td>Ні</td>\n",
       "      <td>Ні</td>\n",
       "      <td>ніяк</td>\n",
       "      <td>Ні</td>\n",
       "      <td>ніяк</td>\n",
       "    </tr>\n",
       "    <tr>\n",
       "      <th>3</th>\n",
       "      <td>4</td>\n",
       "      <td>Дитина</td>\n",
       "      <td>13</td>\n",
       "      <td>Жіноча</td>\n",
       "      <td>Так</td>\n",
       "      <td>телефон</td>\n",
       "      <td>Genshin Impact</td>\n",
       "      <td>близько 1 години</td>\n",
       "      <td>Жахи</td>\n",
       "      <td>Так</td>\n",
       "      <td>Ні</td>\n",
       "      <td>?</td>\n",
       "      <td>Ні</td>\n",
       "      <td>?</td>\n",
       "    </tr>\n",
       "    <tr>\n",
       "      <th>4</th>\n",
       "      <td>5</td>\n",
       "      <td>Дитина</td>\n",
       "      <td>13</td>\n",
       "      <td>Жіноча</td>\n",
       "      <td>Так</td>\n",
       "      <td>телефон</td>\n",
       "      <td>Genshin Impact</td>\n",
       "      <td>близько 3 годин</td>\n",
       "      <td>MMOG</td>\n",
       "      <td>Ні</td>\n",
       "      <td>Ні</td>\n",
       "      <td>ні</td>\n",
       "      <td>Ні</td>\n",
       "      <td>ні</td>\n",
       "    </tr>\n",
       "  </tbody>\n",
       "</table>\n",
       "</div>"
      ],
      "text/plain": [
       "   ID Респондент  Вік     Стать Чи грає у відеоігри             Девайс  \\\n",
       "0   1     Дитина   13  Чоловіча                 Так            телефон   \n",
       "1   2     Дитина   13  Чоловіча                 Так  комп'ютер/ноутбук   \n",
       "2   3     Дитина   14    Жіноча                  Ні                  -   \n",
       "3   4     Дитина   13    Жіноча                 Так            телефон   \n",
       "4   5     Дитина   13    Жіноча                 Так            телефон   \n",
       "\n",
       "        Улюблена гра                Час                Жанр Витрата грошей  \\\n",
       "0  Шахи, Call of war    близько 3 годин  Шутери та бойовики             Ні   \n",
       "1                  -  4 години і більше  Шутери та бойовики            Так   \n",
       "2                  -                  -                   -             Ні   \n",
       "3     Genshin Impact   близько 1 години                Жахи            Так   \n",
       "4     Genshin Impact    близько 3 годин                MMOG             Ні   \n",
       "\n",
       "  Позитивний вплив                 Unnamed: 11 Негативний вплив  \\\n",
       "0              Так  Так, стратегічне мислення               Так   \n",
       "1              Так                         так               Ні   \n",
       "2               Ні                       ніяк                Ні   \n",
       "3               Ні                           ?               Ні   \n",
       "4               Ні                          ні               Ні   \n",
       "\n",
       "  Відповідь респендента про негативний вплив   \n",
       "0                         Забирає багато часу  \n",
       "1                                          ні  \n",
       "2                                        ніяк  \n",
       "3                                           ?  \n",
       "4                                          ні  "
      ]
     },
     "execution_count": 65,
     "metadata": {},
     "output_type": "execute_result"
    }
   ],
   "source": [
    "survey_data_updated= pd.read_csv(\"impact_data_updated.csv\")\n",
    "survey_data_updated.head(5)"
   ]
  }
 ],
 "metadata": {
  "kernelspec": {
   "display_name": "Python 3",
   "language": "python",
   "name": "python3"
  },
  "language_info": {
   "codemirror_mode": {
    "name": "ipython",
    "version": 3
   },
   "file_extension": ".py",
   "mimetype": "text/x-python",
   "name": "python",
   "nbconvert_exporter": "python",
   "pygments_lexer": "ipython3",
   "version": "3.12.5"
  }
 },
 "nbformat": 4,
 "nbformat_minor": 5
}
